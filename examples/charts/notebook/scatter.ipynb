{
 "metadata": {
  "name": "",
  "signature": "sha256:bedbf4b79ee7e9352a36793bd3efba4d15b1b5156a1c0cfc9a12843dd5c91b90"
 },
 "nbformat": 3,
 "nbformat_minor": 0,
 "worksheets": [
  {
   "cells": [
    {
     "cell_type": "code",
     "collapsed": false,
     "input": [
      "import bokeh\n",
      "bokeh.load_notebook()"
     ],
     "language": "python",
     "metadata": {},
     "outputs": []
    },
    {
     "cell_type": "code",
     "collapsed": false,
     "input": [
      "from collections import OrderedDict\n",
      "\n",
      "from bokeh.charts import Scatter\n",
      "from bokeh.sampledata.iris import flowers\n",
      "\n",
      "setosa = flowers[(flowers.species == \"setosa\")][[\"petal_length\", \"petal_width\"]]\n",
      "versicolor = flowers[(flowers.species == \"versicolor\")][[\"petal_length\", \"petal_width\"]]\n",
      "virginica = flowers[(flowers.species == \"virginica\")][[\"petal_length\", \"petal_width\"]]\n",
      "\n",
      "xyvalues = OrderedDict([(\"setosa\", setosa.values), (\"versicolor\", versicolor.values), (\"virginica\", virginica.values)])\n",
      "\n",
      "scatter = Scatter(xyvalues, title=\"iris dataset, dict_input\", x_label=\"petal_length\",\n",
      "                  y_label=\"petal_width\", legend='top_left', notebook=True)\n",
      "scatter.show()"
     ],
     "language": "python",
     "metadata": {},
     "outputs": []
    },
    {
     "cell_type": "code",
     "collapsed": false,
     "input": [
      "groupped_df = flowers[[\"petal_length\", \"petal_width\", \"species\"]].groupby(\"species\")\n",
      "scatter = Scatter(groupped_df, title=\"iris dataset, dict_input\", x_label=\"petal_length\",\n",
      "                  y_label=\"petal_width\", legend='top_left', notebook=True)\n",
      "scatter.show()"
     ],
     "language": "python",
     "metadata": {},
     "outputs": []
    },
    {
     "cell_type": "code",
     "collapsed": false,
     "input": [
      "import pandas as pd\n",
      "from bokeh.plotting import output_notebook, show\n",
      "\n",
      "output_notebook()\n",
      "pdict = OrderedDict()\n",
      "for i in groupped_df.groups.keys():\n",
      "    labels = groupped_df.get_group(i).columns\n",
      "    xname = labels[0]\n",
      "    yname = labels[1]\n",
      "    x = getattr(groupped_df.get_group(i), xname)\n",
      "    y = getattr(groupped_df.get_group(i), yname)\n",
      "    pdict[i] = list(zip(x, y))\n",
      "\n",
      "df = pd.DataFrame(pdict)\n",
      "scatter = Scatter(df, title=\"iris dataset, dict_input\", x_label=\"petal_length\",\n",
      "                  y_label=\"petal_width\", legend='top_left', notebook=True)\n",
      "show(scatter)"
     ],
     "language": "python",
     "metadata": {},
     "outputs": []
    },
    {
     "cell_type": "code",
     "collapsed": false,
     "input": [
      "scatter = Scatter(list(xyvalues.values()), title=\"iris dataset, dict_input\", x_label=\"petal_length\",\n",
      "                  y_label=\"petal_width\", legend='top_left', notebook=True)\n",
      "show(scatter)"
     ],
     "language": "python",
     "metadata": {},
     "outputs": []
    },
    {
     "cell_type": "code",
     "collapsed": false,
     "input": [],
     "language": "python",
     "metadata": {},
     "outputs": []
    }
   ],
   "metadata": {}
  }
 ]
}